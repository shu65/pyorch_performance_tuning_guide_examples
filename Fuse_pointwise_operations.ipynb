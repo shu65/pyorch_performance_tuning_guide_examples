{
  "nbformat": 4,
  "nbformat_minor": 0,
  "metadata": {
    "colab": {
      "name": "Fuse pointwise operations.ipynb",
      "provenance": [],
      "collapsed_sections": [],
      "authorship_tag": "ABX9TyNDpTyK6/Ua+tZKxa00AOFL",
      "include_colab_link": true
    },
    "kernelspec": {
      "name": "python3",
      "display_name": "Python 3"
    },
    "language_info": {
      "name": "python"
    },
    "accelerator": "GPU"
  },
  "cells": [
    {
      "cell_type": "markdown",
      "metadata": {
        "id": "view-in-github",
        "colab_type": "text"
      },
      "source": [
        "<a href=\"https://colab.research.google.com/github/shu65/pyorch_performance_tuning_guide_examples/blob/main/Fuse_pointwise_operations.ipynb\" target=\"_parent\"><img src=\"https://colab.research.google.com/assets/colab-badge.svg\" alt=\"Open In Colab\"/></a>"
      ]
    },
    {
      "cell_type": "markdown",
      "metadata": {
        "id": "1xpep5aKs-a5"
      },
      "source": [
        "\n",
        "PERFORMANCE TUNING GUIDE:\n",
        "\n",
        "https://pytorch.org/tutorials/recipes/recipes/tuning_guide.html#fuse-pointwise-operations"
      ]
    },
    {
      "cell_type": "code",
      "metadata": {
        "colab": {
          "base_uri": "https://localhost:8080/"
        },
        "id": "BvGQqvT_TRAm",
        "outputId": "eec8c4d0-f761-4d2b-e030-78ef6bbc7400"
      },
      "source": [
        "!pip list | grep torch"
      ],
      "execution_count": 1,
      "outputs": [
        {
          "output_type": "stream",
          "text": [
            "torch                         1.8.1+cu101   \n",
            "torchsummary                  1.5.1         \n",
            "torchtext                     0.9.1         \n",
            "torchvision                   0.9.1+cu101   \n"
          ],
          "name": "stdout"
        }
      ]
    },
    {
      "cell_type": "code",
      "metadata": {
        "colab": {
          "base_uri": "https://localhost:8080/"
        },
        "id": "aPRYz2oTTWw2",
        "outputId": "d736a212-0e37-4d39-b2d1-a19298f240ba"
      },
      "source": [
        "!nvidia-smi"
      ],
      "execution_count": 2,
      "outputs": [
        {
          "output_type": "stream",
          "text": [
            "Sat May  8 13:13:56 2021       \n",
            "+-----------------------------------------------------------------------------+\n",
            "| NVIDIA-SMI 465.19.01    Driver Version: 460.32.03    CUDA Version: 11.2     |\n",
            "|-------------------------------+----------------------+----------------------+\n",
            "| GPU  Name        Persistence-M| Bus-Id        Disp.A | Volatile Uncorr. ECC |\n",
            "| Fan  Temp  Perf  Pwr:Usage/Cap|         Memory-Usage | GPU-Util  Compute M. |\n",
            "|                               |                      |               MIG M. |\n",
            "|===============================+======================+======================|\n",
            "|   0  Tesla T4            Off  | 00000000:00:04.0 Off |                    0 |\n",
            "| N/A   49C    P8    10W /  70W |      0MiB / 15109MiB |      0%      Default |\n",
            "|                               |                      |                  N/A |\n",
            "+-------------------------------+----------------------+----------------------+\n",
            "                                                                               \n",
            "+-----------------------------------------------------------------------------+\n",
            "| Processes:                                                                  |\n",
            "|  GPU   GI   CI        PID   Type   Process name                  GPU Memory |\n",
            "|        ID   ID                                                   Usage      |\n",
            "|=============================================================================|\n",
            "|  No running processes found                                                 |\n",
            "+-----------------------------------------------------------------------------+\n"
          ],
          "name": "stdout"
        }
      ]
    },
    {
      "cell_type": "code",
      "metadata": {
        "id": "lxmMExjVTaWe"
      },
      "source": [
        "import os\n",
        "import time\n",
        "\n",
        "import torch"
      ],
      "execution_count": 3,
      "outputs": []
    },
    {
      "cell_type": "code",
      "metadata": {
        "id": "yWdZSGv8TeKZ"
      },
      "source": [
        "def gelu(x):\n",
        "    return x * 0.5 * (1.0 + torch.erf(x / 1.41421))"
      ],
      "execution_count": 4,
      "outputs": []
    },
    {
      "cell_type": "code",
      "metadata": {
        "id": "DxT9fhHJTgcO"
      },
      "source": [
        "input_batch_cpu = torch.randn(128, 3, 224, 224)\n",
        "input_batch_gpu = input_batch_cpu.clone().detach().to('cuda')"
      ],
      "execution_count": 5,
      "outputs": []
    },
    {
      "cell_type": "code",
      "metadata": {
        "colab": {
          "base_uri": "https://localhost:8080/"
        },
        "id": "f3Is-9LGZByx",
        "outputId": "30bbf99d-a472-4e1c-90da-f15a0ecf84f0"
      },
      "source": [
        "# CPU default\n",
        "\n",
        "n_trials = 100\n",
        "out = gelu(input_batch_cpu)\n",
        "\n",
        "start = time.time()\n",
        "with torch.no_grad():\n",
        "  for i in range(n_trials):\n",
        "    out = gelu(input_batch_cpu)\n",
        "elapsed_time = time.time() - start\n",
        "\n",
        "print(\"avg cpu default:\", elapsed_time/n_trials, 'sec.')"
      ],
      "execution_count": 6,
      "outputs": [
        {
          "output_type": "stream",
          "text": [
            "avg cpu default: 0.10588892936706543 sec.\n"
          ],
          "name": "stdout"
        }
      ]
    },
    {
      "cell_type": "code",
      "metadata": {
        "colab": {
          "base_uri": "https://localhost:8080/"
        },
        "id": "IOVJB59GZBoL",
        "outputId": "defd3ade-4808-4715-99c2-f508cea72b28"
      },
      "source": [
        "# CPU torch.jit.script\n",
        "torch.jit._state._jit_function_overload_caching.clear()\n",
        "torch.jit._state._jit_caching_layer.clear()\n",
        "\n",
        "n_trials = 100\n",
        "scripted_gelu = torch.jit.script(gelu)\n",
        "out = scripted_gelu(input_batch_cpu)\n",
        "\n",
        "start = time.time()\n",
        "with torch.no_grad():\n",
        "  for i in range(n_trials):\n",
        "    out = scripted_gelu(input_batch_cpu)\n",
        "elapsed_time = time.time() - start\n",
        "\n",
        "print(\"avg cpu torch.jit.script:\", elapsed_time/n_trials, 'sec.')"
      ],
      "execution_count": 7,
      "outputs": [
        {
          "output_type": "stream",
          "text": [
            "avg cpu torch.jit.script: 0.10547802448272706 sec.\n"
          ],
          "name": "stdout"
        }
      ]
    },
    {
      "cell_type": "code",
      "metadata": {
        "colab": {
          "base_uri": "https://localhost:8080/"
        },
        "id": "TIAu2CUlZk7u",
        "outputId": "954af6e3-d104-463b-8a21-0589f12b276a"
      },
      "source": [
        "# GPU default\n",
        "\n",
        "n_trials = 1000\n",
        "out = gelu(input_batch_gpu)\n",
        "\n",
        "torch.cuda.synchronize()\n",
        "start = time.time()\n",
        "with torch.no_grad():\n",
        "  for i in range(n_trials):\n",
        "    out = gelu(input_batch_gpu)\n",
        "torch.cuda.synchronize()\n",
        "elapsed_time = time.time() - start\n",
        "\n",
        "print(\"avg gpu default:\", elapsed_time/n_trials, 'sec.')"
      ],
      "execution_count": 8,
      "outputs": [
        {
          "output_type": "stream",
          "text": [
            "avg gpu default: 0.003560582160949707 sec.\n"
          ],
          "name": "stdout"
        }
      ]
    },
    {
      "cell_type": "code",
      "metadata": {
        "colab": {
          "base_uri": "https://localhost:8080/"
        },
        "id": "TfmjW_3IpVCr",
        "outputId": "93f9a399-27fd-480d-99a2-bd1af972e6fa"
      },
      "source": [
        "# GPU torch.jit.script\n",
        "torch.jit._state._jit_function_overload_caching.clear()\n",
        "torch.jit._state._jit_caching_layer.clear()\n",
        "\n",
        "n_trials = 1000\n",
        "scripted_gelu = torch.jit.script(gelu)\n",
        "out = scripted_gelu(input_batch_gpu)\n",
        "\n",
        "torch.cuda.synchronize()\n",
        "start = time.time()\n",
        "with torch.no_grad():\n",
        "  for i in range(n_trials):\n",
        "    out = scripted_gelu(input_batch_gpu)\n",
        "torch.cuda.synchronize()\n",
        "elapsed_time = time.time() - start\n",
        "\n",
        "print(\"avg gpu torch.jit.script:\", elapsed_time/n_trials, 'sec.')"
      ],
      "execution_count": 9,
      "outputs": [
        {
          "output_type": "stream",
          "text": [
            "avg gpu torch.jit.script: 0.000788639783859253 sec.\n"
          ],
          "name": "stdout"
        }
      ]
    },
    {
      "cell_type": "code",
      "metadata": {
        "colab": {
          "base_uri": "https://localhost:8080/"
        },
        "id": "0oku0NfKqi_a",
        "outputId": "a92c762c-3169-49b8-8b1c-66621c2288f3"
      },
      "source": [
        "# CPU torch.jit.script graph \n",
        "\n",
        "torch.jit._state._jit_function_overload_caching.clear()\n",
        "torch.jit._state._jit_caching_layer.clear()\n",
        "\n",
        "scripted_gelu = torch.jit.script(gelu)\n",
        "\n",
        "\n",
        "out = scripted_gelu(input_batch_cpu)\n",
        "print(\"1st graph \",torch.jit.last_executed_optimized_graph())\n",
        "out = scripted_gelu(input_batch_cpu)\n",
        "print(\"2nd graph \",torch.jit.last_executed_optimized_graph())"
      ],
      "execution_count": 10,
      "outputs": [
        {
          "output_type": "stream",
          "text": [
            "1st graph  graph(%x.1 : Tensor):\n",
            "  %1 : int = prim::Constant[value=1]()\n",
            "  %2 : float = prim::Constant[value=0.5]() # <ipython-input-4-5971bb91cfd0>:2:15\n",
            "  %3 : float = prim::Constant[value=1.]() # <ipython-input-4-5971bb91cfd0>:2:22\n",
            "  %4 : float = prim::Constant[value=1.41421]() # <ipython-input-4-5971bb91cfd0>:2:42\n",
            "  %10 : Tensor = prim::profile[profiled_type=Float(128, 3, 224, 224, strides=[150528, 50176, 224, 1], requires_grad=0, device=cpu)](%x.1)\n",
            "  %5 : Tensor = aten::mul(%10, %2) # <ipython-input-4-5971bb91cfd0>:2:11\n",
            "  %11 : Tensor = prim::profile[profiled_type=Float(128, 3, 224, 224, strides=[150528, 50176, 224, 1], requires_grad=0, device=cpu)](%x.1)\n",
            "  %6 : Tensor = aten::div(%11, %4) # <ipython-input-4-5971bb91cfd0>:2:38\n",
            "  %12 : Tensor = prim::profile[profiled_type=Float(128, 3, 224, 224, strides=[150528, 50176, 224, 1], requires_grad=0, device=cpu)](%6)\n",
            "  %7 : Tensor = aten::erf(%12) # <ipython-input-4-5971bb91cfd0>:2:28\n",
            "  %13 : Tensor = prim::profile[profiled_type=Float(128, 3, 224, 224, strides=[150528, 50176, 224, 1], requires_grad=0, device=cpu)](%7)\n",
            "  %8 : Tensor = aten::add(%13, %3, %1) # <string>:5:9\n",
            "  %14 : Tensor = prim::profile[profiled_type=Float(128, 3, 224, 224, strides=[150528, 50176, 224, 1], requires_grad=0, device=cpu)](%5)\n",
            "  %15 : Tensor = prim::profile[profiled_type=Float(128, 3, 224, 224, strides=[150528, 50176, 224, 1], requires_grad=0, device=cpu)](%8)\n",
            "  %9 : Tensor = aten::mul(%14, %15) # <ipython-input-4-5971bb91cfd0>:2:11\n",
            "  %16 : Tensor = prim::profile[profiled_type=Float(128, 3, 224, 224, strides=[150528, 50176, 224, 1], requires_grad=0, device=cpu)](%9)\n",
            "   = prim::profile()\n",
            "  return (%16)\n",
            "\n",
            "2nd graph  graph(%x.1 : Tensor):\n",
            "  %4 : float = prim::Constant[value=1.41421]() # <ipython-input-4-5971bb91cfd0>:2:42\n",
            "  %3 : float = prim::Constant[value=1.]() # <ipython-input-4-5971bb91cfd0>:2:22\n",
            "  %2 : float = prim::Constant[value=0.5]() # <ipython-input-4-5971bb91cfd0>:2:15\n",
            "  %1 : int = prim::Constant[value=1]()\n",
            "  %6 : Tensor = aten::mul(%x.1, %2) # <ipython-input-4-5971bb91cfd0>:2:11\n",
            "  %8 : Tensor = aten::div(%x.1, %4) # <ipython-input-4-5971bb91cfd0>:2:38\n",
            "  %10 : Tensor = aten::erf(%8) # <ipython-input-4-5971bb91cfd0>:2:28\n",
            "  %12 : Tensor = aten::add(%10, %3, %1) # <string>:5:9\n",
            "  %15 : Tensor = aten::mul(%6, %12) # <ipython-input-4-5971bb91cfd0>:2:11\n",
            "  return (%15)\n",
            "\n"
          ],
          "name": "stdout"
        }
      ]
    },
    {
      "cell_type": "code",
      "metadata": {
        "colab": {
          "base_uri": "https://localhost:8080/"
        },
        "id": "f_1JwiJ7ptD2",
        "outputId": "3bd0c0fc-a1c4-4389-8f1e-a5c590b73361"
      },
      "source": [
        "# GPU torch.jit.script graph \n",
        "\n",
        "torch.jit._state._jit_function_overload_caching.clear()\n",
        "torch.jit._state._jit_caching_layer.clear()\n",
        "\n",
        "scripted_gelu = torch.jit.script(gelu)\n",
        "\n",
        "\n",
        "out = scripted_gelu(input_batch_gpu)\n",
        "print(\"1st graph \",torch.jit.last_executed_optimized_graph())\n",
        "out = scripted_gelu(input_batch_gpu)\n",
        "print(\"2nd graph \",torch.jit.last_executed_optimized_graph())"
      ],
      "execution_count": 11,
      "outputs": [
        {
          "output_type": "stream",
          "text": [
            "1st graph  graph(%x.1 : Tensor):\n",
            "  %1 : int = prim::Constant[value=1]()\n",
            "  %2 : float = prim::Constant[value=0.5]() # <ipython-input-4-5971bb91cfd0>:2:15\n",
            "  %3 : float = prim::Constant[value=1.]() # <ipython-input-4-5971bb91cfd0>:2:22\n",
            "  %4 : float = prim::Constant[value=1.41421]() # <ipython-input-4-5971bb91cfd0>:2:42\n",
            "  %10 : Tensor = prim::profile[profiled_type=Float(128, 3, 224, 224, strides=[150528, 50176, 224, 1], requires_grad=0, device=cuda:0)](%x.1)\n",
            "  %5 : Tensor = aten::mul(%10, %2) # <ipython-input-4-5971bb91cfd0>:2:11\n",
            "  %11 : Tensor = prim::profile[profiled_type=Float(128, 3, 224, 224, strides=[150528, 50176, 224, 1], requires_grad=0, device=cuda:0)](%x.1)\n",
            "  %6 : Tensor = aten::div(%11, %4) # <ipython-input-4-5971bb91cfd0>:2:38\n",
            "  %12 : Tensor = prim::profile[profiled_type=Float(128, 3, 224, 224, strides=[150528, 50176, 224, 1], requires_grad=0, device=cuda:0)](%6)\n",
            "  %7 : Tensor = aten::erf(%12) # <ipython-input-4-5971bb91cfd0>:2:28\n",
            "  %13 : Tensor = prim::profile[profiled_type=Float(128, 3, 224, 224, strides=[150528, 50176, 224, 1], requires_grad=0, device=cuda:0)](%7)\n",
            "  %8 : Tensor = aten::add(%13, %3, %1) # <string>:5:9\n",
            "  %14 : Tensor = prim::profile[profiled_type=Float(128, 3, 224, 224, strides=[150528, 50176, 224, 1], requires_grad=0, device=cuda:0)](%5)\n",
            "  %15 : Tensor = prim::profile[profiled_type=Float(128, 3, 224, 224, strides=[150528, 50176, 224, 1], requires_grad=0, device=cuda:0)](%8)\n",
            "  %9 : Tensor = aten::mul(%14, %15) # <ipython-input-4-5971bb91cfd0>:2:11\n",
            "  %16 : Tensor = prim::profile[profiled_type=Float(128, 3, 224, 224, strides=[150528, 50176, 224, 1], requires_grad=0, device=cuda:0)](%9)\n",
            "   = prim::profile()\n",
            "  return (%16)\n",
            "\n",
            "2nd graph  graph(%x.1 : Tensor):\n",
            "  %26 : Float(128, 3, 224, 224, strides=[150528, 50176, 224, 1], requires_grad=0, device=cuda:0), %27 : bool = prim::TypeCheck[types=[Float(128, 3, 224, 224, strides=[150528, 50176, 224, 1], requires_grad=0, device=cuda:0)]](%x.1)\n",
            "  %28 : Tensor = prim::If(%27)\n",
            "    block0():\n",
            "      %18 : Float(128, 3, 224, 224, strides=[150528, 50176, 224, 1], requires_grad=0, device=cuda:0) = prim::TensorExprGroup_0(%26)\n",
            "      -> (%18)\n",
            "    block1():\n",
            "      %39 : Function = prim::Constant[name=\"fallback_function\", fallback=1]()\n",
            "      %40 : (Tensor) = prim::CallFunction(%39, %x.1)\n",
            "      %41 : Tensor = prim::TupleUnpack(%40)\n",
            "      -> (%41)\n",
            "  return (%28)\n",
            "with prim::TensorExprGroup_0 = graph(%9 : Float(128, 3, 224, 224, strides=[150528, 50176, 224, 1], requires_grad=0, device=cuda:0)):\n",
            "  %5 : int = prim::Constant[value=1]()\n",
            "  %4 : float = prim::Constant[value=1.]()\n",
            "  %10 : float = prim::Constant[value=1.41421]()\n",
            "  %12 : float = prim::Constant[value=0.5]()\n",
            "  %13 : Float(128, 3, 224, 224, strides=[150528, 50176, 224, 1], requires_grad=0, device=cuda:0) = aten::mul(%9, %12) # <ipython-input-4-5971bb91cfd0>:2:11\n",
            "  %11 : Float(128, 3, 224, 224, strides=[150528, 50176, 224, 1], requires_grad=0, device=cuda:0) = aten::div(%9, %10) # <ipython-input-4-5971bb91cfd0>:2:38\n",
            "  %8 : Float(128, 3, 224, 224, strides=[150528, 50176, 224, 1], requires_grad=0, device=cuda:0) = aten::erf(%11) # <ipython-input-4-5971bb91cfd0>:2:28\n",
            "  %6 : Float(128, 3, 224, 224, strides=[150528, 50176, 224, 1], requires_grad=0, device=cuda:0) = aten::add(%8, %4, %5) # <string>:5:9\n",
            "  %2 : Float(128, 3, 224, 224, strides=[150528, 50176, 224, 1], requires_grad=0, device=cuda:0) = aten::mul(%13, %6) # <ipython-input-4-5971bb91cfd0>:2:11\n",
            "  return (%2)\n",
            "\n"
          ],
          "name": "stdout"
        }
      ]
    },
    {
      "cell_type": "code",
      "metadata": {
        "colab": {
          "base_uri": "https://localhost:8080/"
        },
        "id": "jam49bb8sNkY",
        "outputId": "bcaa69a2-a614-4bd2-e983-9757dc4689cc"
      },
      "source": [
        "# GPU torch.jit.script graph without optimized_execution\n",
        "\n",
        "torch.jit._state._jit_function_overload_caching.clear()\n",
        "torch.jit._state._jit_caching_layer.clear()\n",
        "\n",
        "with torch.jit.optimized_execution(False):\n",
        "    scripted_gelu = torch.jit.script(gelu)\n",
        "\n",
        "\n",
        "    out = scripted_gelu(input_batch_gpu)\n",
        "    print(\"1st graph \",torch.jit.last_executed_optimized_graph())\n",
        "    out = scripted_gelu(input_batch_gpu)\n",
        "    print(\"2nd graph \",torch.jit.last_executed_optimized_graph())"
      ],
      "execution_count": 12,
      "outputs": [
        {
          "output_type": "stream",
          "text": [
            "1st graph  graph(%x.1 : Tensor):\n",
            "  %1 : int = prim::Constant[value=1]()\n",
            "  %2 : float = prim::Constant[value=0.5]() # <ipython-input-4-5971bb91cfd0>:2:15\n",
            "  %3 : float = prim::Constant[value=1.]() # <ipython-input-4-5971bb91cfd0>:2:22\n",
            "  %4 : float = prim::Constant[value=1.41421]() # <ipython-input-4-5971bb91cfd0>:2:42\n",
            "  %5 : Tensor = aten::mul(%x.1, %2) # <ipython-input-4-5971bb91cfd0>:2:11\n",
            "  %6 : Tensor = aten::div(%x.1, %4) # <ipython-input-4-5971bb91cfd0>:2:38\n",
            "  %7 : Tensor = aten::erf(%6) # <ipython-input-4-5971bb91cfd0>:2:28\n",
            "  %8 : Tensor = aten::add(%7, %3, %1) # <string>:5:9\n",
            "  %9 : Tensor = aten::mul(%5, %8) # <ipython-input-4-5971bb91cfd0>:2:11\n",
            "  return (%9)\n",
            "\n",
            "2nd graph  graph(%x.1 : Tensor):\n",
            "  %1 : int = prim::Constant[value=1]()\n",
            "  %2 : float = prim::Constant[value=0.5]() # <ipython-input-4-5971bb91cfd0>:2:15\n",
            "  %3 : float = prim::Constant[value=1.]() # <ipython-input-4-5971bb91cfd0>:2:22\n",
            "  %4 : float = prim::Constant[value=1.41421]() # <ipython-input-4-5971bb91cfd0>:2:42\n",
            "  %5 : Tensor = aten::mul(%x.1, %2) # <ipython-input-4-5971bb91cfd0>:2:11\n",
            "  %6 : Tensor = aten::div(%x.1, %4) # <ipython-input-4-5971bb91cfd0>:2:38\n",
            "  %7 : Tensor = aten::erf(%6) # <ipython-input-4-5971bb91cfd0>:2:28\n",
            "  %8 : Tensor = aten::add(%7, %3, %1) # <string>:5:9\n",
            "  %9 : Tensor = aten::mul(%5, %8) # <ipython-input-4-5971bb91cfd0>:2:11\n",
            "  return (%9)\n",
            "\n"
          ],
          "name": "stdout"
        }
      ]
    }
  ]
}